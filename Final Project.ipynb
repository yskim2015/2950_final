{
 "cells": [
  {
   "cell_type": "markdown",
   "metadata": {},
   "source": [
    "# Final Project\n",
    "\n",
    "In this project I am examining income of ivy league and public/private college graduates and regressing different to find what leads to the largest correlation. Do graduates from ivy league colleges receive more incomes than graduates of other colleges. Does it impact one’s income at all? Does ivy league’s education help graduates receive more income or is it dependent on one’s major? Do ivy league graduates receive more incomes than others in first place? After that I will discover ivy league institution is profitable over public/private colleges.\n",
    "\n",
    "The observations are: school name, school type, early career pay, mid-career pay, and % STEM degrees. The attribute for school name are 'str,' for school type are 'str,' for early career pay are 'float,' for mid-career pay are 'float,' and for % STEM degrees are 'float.' This dataset was created to effectively compare Ivy league school benefits over other private/public schools\n",
    "\n",
    "The public and private school dataset only includes top 100 schools with high career pay. Thus, the gap between Ivy league school and schools in the dataset might not be too big.\n",
    "\n",
    "\n",
    "Data is from: payscale.com\n",
    "\n",
    "\n",
    "The raw data is at: https://github.com/yskim2015/2950_final.git\n",
    "\n"
   ]
  },
  {
   "cell_type": "markdown",
   "metadata": {},
   "source": [
    "## Initial Hypothesis\n",
    "\n",
    "My initial hypothesis is that ivy league education will lead to higher pay in career than that of public & private colleges. Also, STEM major will impact the pay amount for both ivy league and public & private colleges."
   ]
  },
  {
   "cell_type": "code",
   "execution_count": 200,
   "metadata": {},
   "outputs": [],
   "source": [
    "import pandas\n",
    "import numpy as np\n",
    "from matplotlib import pyplot  as plt\n",
    "from sklearn.linear_model import LinearRegression\n",
    "from sklearn.metrics import r2_score"
   ]
  },
  {
   "cell_type": "code",
   "execution_count": 201,
   "metadata": {
    "scrolled": true
   },
   "outputs": [
    {
     "data": {
      "text/html": [
       "<div>\n",
       "<style scoped>\n",
       "    .dataframe tbody tr th:only-of-type {\n",
       "        vertical-align: middle;\n",
       "    }\n",
       "\n",
       "    .dataframe tbody tr th {\n",
       "        vertical-align: top;\n",
       "    }\n",
       "\n",
       "    .dataframe thead th {\n",
       "        text-align: right;\n",
       "    }\n",
       "</style>\n",
       "<table border=\"1\" class=\"dataframe\">\n",
       "  <thead>\n",
       "    <tr style=\"text-align: right;\">\n",
       "      <th></th>\n",
       "      <th>School Name</th>\n",
       "      <th>School Type</th>\n",
       "      <th>Early Career Pay</th>\n",
       "      <th>Mid-Career Pay</th>\n",
       "      <th>% STEM Degrees</th>\n",
       "    </tr>\n",
       "  </thead>\n",
       "  <tbody>\n",
       "    <tr>\n",
       "      <td>0</td>\n",
       "      <td>Harvey Mudd College</td>\n",
       "      <td>Engineering, Liberal Arts School, Private School</td>\n",
       "      <td>88800</td>\n",
       "      <td>158200</td>\n",
       "      <td>0.85</td>\n",
       "    </tr>\n",
       "    <tr>\n",
       "      <td>1</td>\n",
       "      <td>Massachusetts Institute of Technology</td>\n",
       "      <td>Engineering, Private School, Research University</td>\n",
       "      <td>86300</td>\n",
       "      <td>155200</td>\n",
       "      <td>0.69</td>\n",
       "    </tr>\n",
       "    <tr>\n",
       "      <td>2</td>\n",
       "      <td>Samuel Merritt University</td>\n",
       "      <td>Private School</td>\n",
       "      <td>91200</td>\n",
       "      <td>154100</td>\n",
       "      <td>0.00</td>\n",
       "    </tr>\n",
       "    <tr>\n",
       "      <td>3</td>\n",
       "      <td>United States Naval Academy</td>\n",
       "      <td>Engineering, Liberal Arts School, Sober School...</td>\n",
       "      <td>80100</td>\n",
       "      <td>152800</td>\n",
       "      <td>0.58</td>\n",
       "    </tr>\n",
       "    <tr>\n",
       "      <td>4</td>\n",
       "      <td>California Institute of Technology</td>\n",
       "      <td>Engineering, Private School, Research University</td>\n",
       "      <td>84100</td>\n",
       "      <td>151600</td>\n",
       "      <td>0.97</td>\n",
       "    </tr>\n",
       "  </tbody>\n",
       "</table>\n",
       "</div>"
      ],
      "text/plain": [
       "                             School Name  \\\n",
       "0                    Harvey Mudd College   \n",
       "1  Massachusetts Institute of Technology   \n",
       "2              Samuel Merritt University   \n",
       "3            United States Naval Academy   \n",
       "4     California Institute of Technology   \n",
       "\n",
       "                                         School Type  Early Career Pay  \\\n",
       "0   Engineering, Liberal Arts School, Private School             88800   \n",
       "1   Engineering, Private School, Research University             86300   \n",
       "2                                     Private School             91200   \n",
       "3  Engineering, Liberal Arts School, Sober School...             80100   \n",
       "4   Engineering, Private School, Research University             84100   \n",
       "\n",
       "   Mid-Career Pay  % STEM Degrees  \n",
       "0          158200            0.85  \n",
       "1          155200            0.69  \n",
       "2          154100            0.00  \n",
       "3          152800            0.58  \n",
       "4          151600            0.97  "
      ]
     },
     "execution_count": 201,
     "metadata": {},
     "output_type": "execute_result"
    }
   ],
   "source": [
    "#Data for public & private colleges (Rank 1~100 in terms of early career pay)\n",
    "pp= pandas.read_csv(\"publicprivate.csv\")\n",
    "pp.head()"
   ]
  },
  {
   "cell_type": "markdown",
   "metadata": {},
   "source": [
    "This data was divided into 4 files so that graphs will not appear clustered.\n",
    "- Rank 1~25\n",
    "- Rank 26~50\n",
    "- Rank 51~75\n",
    "- Rank 76~100"
   ]
  },
  {
   "cell_type": "code",
   "execution_count": 202,
   "metadata": {},
   "outputs": [
    {
     "data": {
      "text/html": [
       "<div>\n",
       "<style scoped>\n",
       "    .dataframe tbody tr th:only-of-type {\n",
       "        vertical-align: middle;\n",
       "    }\n",
       "\n",
       "    .dataframe tbody tr th {\n",
       "        vertical-align: top;\n",
       "    }\n",
       "\n",
       "    .dataframe thead th {\n",
       "        text-align: right;\n",
       "    }\n",
       "</style>\n",
       "<table border=\"1\" class=\"dataframe\">\n",
       "  <thead>\n",
       "    <tr style=\"text-align: right;\">\n",
       "      <th></th>\n",
       "      <th>School Name</th>\n",
       "      <th>School Type</th>\n",
       "      <th>Early Career Pay</th>\n",
       "      <th>Mid-Career Pay</th>\n",
       "      <th>% STEM Degrees</th>\n",
       "    </tr>\n",
       "  </thead>\n",
       "  <tbody>\n",
       "    <tr>\n",
       "      <td>0</td>\n",
       "      <td>Harvey Mudd College</td>\n",
       "      <td>Engineering, Liberal Arts School, Private School</td>\n",
       "      <td>88800</td>\n",
       "      <td>158200</td>\n",
       "      <td>0.85</td>\n",
       "    </tr>\n",
       "    <tr>\n",
       "      <td>1</td>\n",
       "      <td>Massachusetts Institute of Technology</td>\n",
       "      <td>Engineering, Private School, Research University</td>\n",
       "      <td>86300</td>\n",
       "      <td>155200</td>\n",
       "      <td>0.69</td>\n",
       "    </tr>\n",
       "    <tr>\n",
       "      <td>2</td>\n",
       "      <td>Samuel Merritt University</td>\n",
       "      <td>Private School</td>\n",
       "      <td>91200</td>\n",
       "      <td>154100</td>\n",
       "      <td>0.00</td>\n",
       "    </tr>\n",
       "    <tr>\n",
       "      <td>3</td>\n",
       "      <td>United States Naval Academy</td>\n",
       "      <td>Engineering, Liberal Arts School, Sober School...</td>\n",
       "      <td>80100</td>\n",
       "      <td>152800</td>\n",
       "      <td>0.58</td>\n",
       "    </tr>\n",
       "    <tr>\n",
       "      <td>4</td>\n",
       "      <td>California Institute of Technology</td>\n",
       "      <td>Engineering, Private School, Research University</td>\n",
       "      <td>84100</td>\n",
       "      <td>151600</td>\n",
       "      <td>0.97</td>\n",
       "    </tr>\n",
       "  </tbody>\n",
       "</table>\n",
       "</div>"
      ],
      "text/plain": [
       "                             School Name  \\\n",
       "0                    Harvey Mudd College   \n",
       "1  Massachusetts Institute of Technology   \n",
       "2              Samuel Merritt University   \n",
       "3            United States Naval Academy   \n",
       "4     California Institute of Technology   \n",
       "\n",
       "                                         School Type  Early Career Pay  \\\n",
       "0   Engineering, Liberal Arts School, Private School             88800   \n",
       "1   Engineering, Private School, Research University             86300   \n",
       "2                                     Private School             91200   \n",
       "3  Engineering, Liberal Arts School, Sober School...             80100   \n",
       "4   Engineering, Private School, Research University             84100   \n",
       "\n",
       "   Mid-Career Pay  % STEM Degrees  \n",
       "0          158200            0.85  \n",
       "1          155200            0.69  \n",
       "2          154100            0.00  \n",
       "3          152800            0.58  \n",
       "4          151600            0.97  "
      ]
     },
     "execution_count": 202,
     "metadata": {},
     "output_type": "execute_result"
    }
   ],
   "source": [
    "#Data for public & private colleges (Rank 1~25 in terms of early career pay)\n",
    "pp_25= pandas.read_csv(\"publicprivate_25.csv\")\n",
    "pp_25.head()"
   ]
  },
  {
   "cell_type": "code",
   "execution_count": 203,
   "metadata": {},
   "outputs": [
    {
     "data": {
      "text/html": [
       "<div>\n",
       "<style scoped>\n",
       "    .dataframe tbody tr th:only-of-type {\n",
       "        vertical-align: middle;\n",
       "    }\n",
       "\n",
       "    .dataframe tbody tr th {\n",
       "        vertical-align: top;\n",
       "    }\n",
       "\n",
       "    .dataframe thead th {\n",
       "        text-align: right;\n",
       "    }\n",
       "</style>\n",
       "<table border=\"1\" class=\"dataframe\">\n",
       "  <thead>\n",
       "    <tr style=\"text-align: right;\">\n",
       "      <th></th>\n",
       "      <th>School Name</th>\n",
       "      <th>School Type</th>\n",
       "      <th>Early Career Pay</th>\n",
       "      <th>Mid-Career Pay</th>\n",
       "      <th>% STEM Degrees</th>\n",
       "    </tr>\n",
       "  </thead>\n",
       "  <tbody>\n",
       "    <tr>\n",
       "      <td>0</td>\n",
       "      <td>University of California-Berkeley</td>\n",
       "      <td>Research University, For Sports Fans, State Sc...</td>\n",
       "      <td>70700</td>\n",
       "      <td>131800</td>\n",
       "      <td>0.36</td>\n",
       "    </tr>\n",
       "    <tr>\n",
       "      <td>1</td>\n",
       "      <td>Colgate University</td>\n",
       "      <td>Liberal Arts School, Party School, Private Sch...</td>\n",
       "      <td>68400</td>\n",
       "      <td>130600</td>\n",
       "      <td>0.26</td>\n",
       "    </tr>\n",
       "    <tr>\n",
       "      <td>2</td>\n",
       "      <td>University of Notre Dame</td>\n",
       "      <td>Private School, Religious, Research University...</td>\n",
       "      <td>67000</td>\n",
       "      <td>130500</td>\n",
       "      <td>0.28</td>\n",
       "    </tr>\n",
       "    <tr>\n",
       "      <td>3</td>\n",
       "      <td>Clarkson University</td>\n",
       "      <td>Engineering, Private School, Research University</td>\n",
       "      <td>66400</td>\n",
       "      <td>130100</td>\n",
       "      <td>0.58</td>\n",
       "    </tr>\n",
       "    <tr>\n",
       "      <td>4</td>\n",
       "      <td>California State University Maritime Academy</td>\n",
       "      <td>State School</td>\n",
       "      <td>70500</td>\n",
       "      <td>129600</td>\n",
       "      <td>0.15</td>\n",
       "    </tr>\n",
       "  </tbody>\n",
       "</table>\n",
       "</div>"
      ],
      "text/plain": [
       "                                    School Name  \\\n",
       "0             University of California-Berkeley   \n",
       "1                            Colgate University   \n",
       "2                      University of Notre Dame   \n",
       "3                           Clarkson University   \n",
       "4  California State University Maritime Academy   \n",
       "\n",
       "                                         School Type  Early Career Pay  \\\n",
       "0  Research University, For Sports Fans, State Sc...             70700   \n",
       "1  Liberal Arts School, Party School, Private Sch...             68400   \n",
       "2  Private School, Religious, Research University...             67000   \n",
       "3   Engineering, Private School, Research University             66400   \n",
       "4                                       State School             70500   \n",
       "\n",
       "   Mid-Career Pay  % STEM Degrees  \n",
       "0          131800            0.36  \n",
       "1          130600            0.26  \n",
       "2          130500            0.28  \n",
       "3          130100            0.58  \n",
       "4          129600            0.15  "
      ]
     },
     "execution_count": 203,
     "metadata": {},
     "output_type": "execute_result"
    }
   ],
   "source": [
    "#Data for public & private colleges (Rank 26~50 in terms of early career pay)\n",
    "\n",
    "pp_50= pandas.read_csv(\"publicprivate_50.csv\")\n",
    "pp_50.head()"
   ]
  },
  {
   "cell_type": "code",
   "execution_count": 204,
   "metadata": {
    "scrolled": true
   },
   "outputs": [
    {
     "data": {
      "text/html": [
       "<div>\n",
       "<style scoped>\n",
       "    .dataframe tbody tr th:only-of-type {\n",
       "        vertical-align: middle;\n",
       "    }\n",
       "\n",
       "    .dataframe tbody tr th {\n",
       "        vertical-align: top;\n",
       "    }\n",
       "\n",
       "    .dataframe thead th {\n",
       "        text-align: right;\n",
       "    }\n",
       "</style>\n",
       "<table border=\"1\" class=\"dataframe\">\n",
       "  <thead>\n",
       "    <tr style=\"text-align: right;\">\n",
       "      <th></th>\n",
       "      <th>School Name</th>\n",
       "      <th>School Type</th>\n",
       "      <th>Early Career Pay</th>\n",
       "      <th>Mid-Career Pay</th>\n",
       "      <th>% STEM Degrees</th>\n",
       "    </tr>\n",
       "  </thead>\n",
       "  <tbody>\n",
       "    <tr>\n",
       "      <td>0</td>\n",
       "      <td>California Polytechnic State University-San Lu...</td>\n",
       "      <td>For Sports Fans, State School</td>\n",
       "      <td>65600</td>\n",
       "      <td>119500</td>\n",
       "      <td>0.38</td>\n",
       "    </tr>\n",
       "    <tr>\n",
       "      <td>1</td>\n",
       "      <td>Vanderbilt University</td>\n",
       "      <td>Private School, Research University, For Sport...</td>\n",
       "      <td>65400</td>\n",
       "      <td>119100</td>\n",
       "      <td>0.23</td>\n",
       "    </tr>\n",
       "    <tr>\n",
       "      <td>2</td>\n",
       "      <td>South Dakota School of Mines and Technology</td>\n",
       "      <td>Engineering, State School</td>\n",
       "      <td>66500</td>\n",
       "      <td>118500</td>\n",
       "      <td>0.92</td>\n",
       "    </tr>\n",
       "    <tr>\n",
       "      <td>3</td>\n",
       "      <td>Illinois Institute of Technology</td>\n",
       "      <td>Engineering, Private School, Research University</td>\n",
       "      <td>64600</td>\n",
       "      <td>118500</td>\n",
       "      <td>0.64</td>\n",
       "    </tr>\n",
       "    <tr>\n",
       "      <td>4</td>\n",
       "      <td>Capitol Technology University</td>\n",
       "      <td>Engineering, Private School</td>\n",
       "      <td>67400</td>\n",
       "      <td>118400</td>\n",
       "      <td>0.88</td>\n",
       "    </tr>\n",
       "  </tbody>\n",
       "</table>\n",
       "</div>"
      ],
      "text/plain": [
       "                                         School Name  \\\n",
       "0  California Polytechnic State University-San Lu...   \n",
       "1                              Vanderbilt University   \n",
       "2        South Dakota School of Mines and Technology   \n",
       "3                   Illinois Institute of Technology   \n",
       "4                      Capitol Technology University   \n",
       "\n",
       "                                         School Type  Early Career Pay  \\\n",
       "0                      For Sports Fans, State School             65600   \n",
       "1  Private School, Research University, For Sport...             65400   \n",
       "2                          Engineering, State School             66500   \n",
       "3   Engineering, Private School, Research University             64600   \n",
       "4                        Engineering, Private School             67400   \n",
       "\n",
       "   Mid-Career Pay  % STEM Degrees  \n",
       "0          119500            0.38  \n",
       "1          119100            0.23  \n",
       "2          118500            0.92  \n",
       "3          118500            0.64  \n",
       "4          118400            0.88  "
      ]
     },
     "execution_count": 204,
     "metadata": {},
     "output_type": "execute_result"
    }
   ],
   "source": [
    "#Data for public & private colleges (Rank 51~75 in terms of early career pay)\n",
    "pp_75= pandas.read_csv(\"publicprivate_75.csv\")\n",
    "pp_75.head()"
   ]
  },
  {
   "cell_type": "code",
   "execution_count": 205,
   "metadata": {},
   "outputs": [
    {
     "data": {
      "text/html": [
       "<div>\n",
       "<style scoped>\n",
       "    .dataframe tbody tr th:only-of-type {\n",
       "        vertical-align: middle;\n",
       "    }\n",
       "\n",
       "    .dataframe tbody tr th {\n",
       "        vertical-align: top;\n",
       "    }\n",
       "\n",
       "    .dataframe thead th {\n",
       "        text-align: right;\n",
       "    }\n",
       "</style>\n",
       "<table border=\"1\" class=\"dataframe\">\n",
       "  <thead>\n",
       "    <tr style=\"text-align: right;\">\n",
       "      <th></th>\n",
       "      <th>School Name</th>\n",
       "      <th>School Type</th>\n",
       "      <th>Early Career Pay</th>\n",
       "      <th>Mid-Career Pay</th>\n",
       "      <th>% STEM Degrees</th>\n",
       "    </tr>\n",
       "  </thead>\n",
       "  <tbody>\n",
       "    <tr>\n",
       "      <td>0</td>\n",
       "      <td>Texas A &amp; M University-College Station</td>\n",
       "      <td>Research University, For Sports Fans, State Sc...</td>\n",
       "      <td>60600</td>\n",
       "      <td>115700</td>\n",
       "      <td>0.30</td>\n",
       "    </tr>\n",
       "    <tr>\n",
       "      <td>1</td>\n",
       "      <td>Northwestern University</td>\n",
       "      <td>Private School, Research University, For Sport...</td>\n",
       "      <td>63400</td>\n",
       "      <td>115400</td>\n",
       "      <td>0.20</td>\n",
       "    </tr>\n",
       "    <tr>\n",
       "      <td>2</td>\n",
       "      <td>Boston College</td>\n",
       "      <td>Private School, Religious, Research University...</td>\n",
       "      <td>63600</td>\n",
       "      <td>115400</td>\n",
       "      <td>0.13</td>\n",
       "    </tr>\n",
       "    <tr>\n",
       "      <td>3</td>\n",
       "      <td>University of Illinois at Urbana-Champaign</td>\n",
       "      <td>Party School, Research University, For Sports ...</td>\n",
       "      <td>62600</td>\n",
       "      <td>115300</td>\n",
       "      <td>0.36</td>\n",
       "    </tr>\n",
       "    <tr>\n",
       "      <td>4</td>\n",
       "      <td>George Washington University</td>\n",
       "      <td>Private School, Research University, For Sport...</td>\n",
       "      <td>61400</td>\n",
       "      <td>115300</td>\n",
       "      <td>0.15</td>\n",
       "    </tr>\n",
       "  </tbody>\n",
       "</table>\n",
       "</div>"
      ],
      "text/plain": [
       "                                  School Name  \\\n",
       "0      Texas A & M University-College Station   \n",
       "1                     Northwestern University   \n",
       "2                              Boston College   \n",
       "3  University of Illinois at Urbana-Champaign   \n",
       "4                George Washington University   \n",
       "\n",
       "                                         School Type  Early Career Pay  \\\n",
       "0  Research University, For Sports Fans, State Sc...             60600   \n",
       "1  Private School, Research University, For Sport...             63400   \n",
       "2  Private School, Religious, Research University...             63600   \n",
       "3  Party School, Research University, For Sports ...             62600   \n",
       "4  Private School, Research University, For Sport...             61400   \n",
       "\n",
       "   Mid-Career Pay  % STEM Degrees  \n",
       "0          115700            0.30  \n",
       "1          115400            0.20  \n",
       "2          115400            0.13  \n",
       "3          115300            0.36  \n",
       "4          115300            0.15  "
      ]
     },
     "execution_count": 205,
     "metadata": {},
     "output_type": "execute_result"
    }
   ],
   "source": [
    "#Data for public & private colleges (Rank 76~100 in terms of early career pay)\n",
    "pp_100= pandas.read_csv(\"publicprivate_100.csv\")\n",
    "pp_100.head()"
   ]
  },
  {
   "cell_type": "code",
   "execution_count": 206,
   "metadata": {
    "scrolled": false
   },
   "outputs": [
    {
     "data": {
      "text/html": [
       "<div>\n",
       "<style scoped>\n",
       "    .dataframe tbody tr th:only-of-type {\n",
       "        vertical-align: middle;\n",
       "    }\n",
       "\n",
       "    .dataframe tbody tr th {\n",
       "        vertical-align: top;\n",
       "    }\n",
       "\n",
       "    .dataframe thead th {\n",
       "        text-align: right;\n",
       "    }\n",
       "</style>\n",
       "<table border=\"1\" class=\"dataframe\">\n",
       "  <thead>\n",
       "    <tr style=\"text-align: right;\">\n",
       "      <th></th>\n",
       "      <th>School Name</th>\n",
       "      <th>School Type</th>\n",
       "      <th>Early Career Pay</th>\n",
       "      <th>Mid-Career Pay</th>\n",
       "      <th>% STEM Degrees</th>\n",
       "    </tr>\n",
       "  </thead>\n",
       "  <tbody>\n",
       "    <tr>\n",
       "      <td>0</td>\n",
       "      <td>Harvard University</td>\n",
       "      <td>Ivy League</td>\n",
       "      <td>74800</td>\n",
       "      <td>146800</td>\n",
       "      <td>0.19</td>\n",
       "    </tr>\n",
       "    <tr>\n",
       "      <td>1</td>\n",
       "      <td>Princeton University</td>\n",
       "      <td>Ivy League</td>\n",
       "      <td>75200</td>\n",
       "      <td>139400</td>\n",
       "      <td>0.48</td>\n",
       "    </tr>\n",
       "    <tr>\n",
       "      <td>2</td>\n",
       "      <td>Yale University</td>\n",
       "      <td>Ivy League</td>\n",
       "      <td>70300</td>\n",
       "      <td>138300</td>\n",
       "      <td>0.22</td>\n",
       "    </tr>\n",
       "    <tr>\n",
       "      <td>3</td>\n",
       "      <td>University of Pennsylvania</td>\n",
       "      <td>Ivy League</td>\n",
       "      <td>72800</td>\n",
       "      <td>133900</td>\n",
       "      <td>0.21</td>\n",
       "    </tr>\n",
       "    <tr>\n",
       "      <td>4</td>\n",
       "      <td>Dartmouth College</td>\n",
       "      <td>Ivy League</td>\n",
       "      <td>71500</td>\n",
       "      <td>130900</td>\n",
       "      <td>0.35</td>\n",
       "    </tr>\n",
       "  </tbody>\n",
       "</table>\n",
       "</div>"
      ],
      "text/plain": [
       "                  School Name School Type  Early Career Pay  Mid-Career Pay  \\\n",
       "0          Harvard University  Ivy League             74800          146800   \n",
       "1        Princeton University  Ivy League             75200          139400   \n",
       "2             Yale University  Ivy League             70300          138300   \n",
       "3  University of Pennsylvania  Ivy League             72800          133900   \n",
       "4           Dartmouth College  Ivy League             71500          130900   \n",
       "\n",
       "   % STEM Degrees  \n",
       "0            0.19  \n",
       "1            0.48  \n",
       "2            0.22  \n",
       "3            0.21  \n",
       "4            0.35  "
      ]
     },
     "execution_count": 206,
     "metadata": {},
     "output_type": "execute_result"
    }
   ],
   "source": [
    "#Data for ivy league colleges\n",
    "ivy= pandas.read_csv(\"ivy.csv\")\n",
    "ivy.head()"
   ]
  },
  {
   "cell_type": "markdown",
   "metadata": {},
   "source": [
    "## Early Career Pay Analysis\n"
   ]
  },
  {
   "cell_type": "code",
   "execution_count": 207,
   "metadata": {},
   "outputs": [
    {
     "data": {
      "image/png": "[encoded data removed]",
      "text/plain": [
       "<Figure size 432x288 with 1 Axes>"
      ]
     },
     "metadata": {
      "needs_background": "light"
     },
     "output_type": "display_data"
    }
   ],
   "source": [
    "plt.hist(pp_25[\"Early Career Pay\"], bins=25)\n",
    "plt.title(\"Early Career Pay for public & private colleges Rank 1~25\")\n",
    "plt.xlabel(\"Early Career Pay\")\n",
    "plt.ylabel(\"Count\")\n",
    "plt.show()"
   ]
  },
  {
   "cell_type": "code",
   "execution_count": 208,
   "metadata": {},
   "outputs": [
    {
     "data": {
      "image/png": "[encoded data removed]",
      "text/plain": [
       "<Figure size 432x288 with 1 Axes>"
      ]
     },
     "metadata": {
      "needs_background": "light"
     },
     "output_type": "display_data"
    }
   ],
   "source": [
    "plt.hist(pp_50[\"Early Career Pay\"], bins=25)\n",
    "plt.title(\"Early Career Pay for public & private colleges Rank 26~50\")\n",
    "plt.xlabel(\"Early Career Pay\")\n",
    "plt.ylabel(\"Count\")\n",
    "plt.show()"
   ]
  },
  {
   "cell_type": "code",
   "execution_count": 209,
   "metadata": {},
   "outputs": [
    {
     "data": {
      "image/png": "[encoded data removed]",
      "text/plain": [
       "<Figure size 432x288 with 1 Axes>"
      ]
     },
     "metadata": {
      "needs_background": "light"
     },
     "output_type": "display_data"
    }
   ],
   "source": [
    "plt.hist(pp_75[\"Early Career Pay\"], bins=25)\n",
    "plt.title(\"Early Career Pay for public & private colleges Rank 51~75\")\n",
    "plt.xlabel(\"Early Career Pay\")\n",
    "plt.ylabel(\"Count\")\n",
    "plt.show()"
   ]
  },
  {
   "cell_type": "code",
   "execution_count": 210,
   "metadata": {},
   "outputs": [
    {
     "data": {
      "image/png": "[encoded data removed]",
      "text/plain": [
       "<Figure size 432x288 with 1 Axes>"
      ]
     },
     "metadata": {
      "needs_background": "light"
     },
     "output_type": "display_data"
    }
   ],
   "source": [
    "plt.hist(pp_100[\"Early Career Pay\"], bins=25)\n",
    "plt.title(\"Early Career Pay for public & private colleges Rank 76~100\")\n",
    "plt.xlabel(\"Early Career Pay\")\n",
    "plt.ylabel(\"Count\")\n",
    "plt.show()"
   ]
  },
  {
   "cell_type": "code",
   "execution_count": 211,
   "metadata": {},
   "outputs": [
    {
     "name": "stdout",
     "output_type": "stream",
     "text": [
      "The mean for early career pay of colleges (rank 1~25) is 77637.5\n",
      "\n",
      "The mean for early career pay of colleges (rank 26~50) is 66952.0\n",
      "\n",
      "The mean for early career pay of colleges (rank 51~75) is 64564.0\n",
      "\n",
      "The mean for early career pay of colleges (rank 76~100) is 61852.0\n",
      "\n",
      "The mean for early career pay of public & private colleges is 67751.375\n"
     ]
    }
   ],
   "source": [
    "pp_25_early = pp_25[\"Early Career Pay\"].mean()\n",
    "print (\"The mean for early career pay of colleges (rank 1~25) is\", pp_25_early)\n",
    "\n",
    "print(\"\")\n",
    "\n",
    "pp_50_early = pp_50[\"Early Career Pay\"].mean()\n",
    "print (\"The mean for early career pay of colleges (rank 26~50) is\", pp_50_early)\n",
    "\n",
    "print(\"\")\n",
    "\n",
    "pp_75_early = pp_75[\"Early Career Pay\"].mean()\n",
    "print (\"The mean for early career pay of colleges (rank 51~75) is\", pp_75_early)\n",
    "\n",
    "print(\"\")\n",
    "\n",
    "pp_100_early = pp_100[\"Early Career Pay\"].mean()\n",
    "print (\"The mean for early career pay of colleges (rank 76~100) is\", pp_100_early)\n",
    "\n",
    "print(\"\")\n",
    "\n",
    "pp_early_mean = (pp_25_early+pp_50_early+pp_75_early+pp_100_early)/4\n",
    "print (\"The mean for early career pay of public & private colleges is\", pp_early_mean)"
   ]
  },
  {
   "cell_type": "code",
   "execution_count": 212,
   "metadata": {},
   "outputs": [
    {
     "data": {
      "image/png": "[encoded data removed]",
      "text/plain": [
       "<Figure size 432x288 with 1 Axes>"
      ]
     },
     "metadata": {
      "needs_background": "light"
     },
     "output_type": "display_data"
    }
   ],
   "source": [
    "plt.hist(ivy[\"Early Career Pay\"], bins=8)\n",
    "plt.title(\"Early Career Pay for ivy league colleges\")\n",
    "plt.xlabel(\"Early Career Pay\")\n",
    "plt.ylabel(\"Count\")\n",
    "plt.show()"
   ]
  },
  {
   "cell_type": "code",
   "execution_count": 213,
   "metadata": {},
   "outputs": [
    {
     "name": "stdout",
     "output_type": "stream",
     "text": [
      "The mean for early career pay of ivy league colleges is 71787.5\n"
     ]
    }
   ],
   "source": [
    "ivy_early = ivy[\"Early Career Pay\"].mean()\n",
    "print (\"The mean for early career pay of ivy league colleges is\", ivy_early)"
   ]
  },
  {
   "cell_type": "markdown",
   "metadata": {},
   "source": [
    "### Result\n",
    "In terms of early career pay, graduates from ivy league colleges received $4000 more than those from public & private colleges, suggesting ivy league education leads to higher pay early in the career, but by not a big margin."
   ]
  },
  {
   "cell_type": "markdown",
   "metadata": {},
   "source": [
    "## Mid Career Pay Analysis"
   ]
  },
  {
   "cell_type": "code",
   "execution_count": 214,
   "metadata": {},
   "outputs": [
    {
     "data": {
      "image/png": "[encoded data removed]",
      "text/plain": [
       "<Figure size 432x288 with 1 Axes>"
      ]
     },
     "metadata": {
      "needs_background": "light"
     },
     "output_type": "display_data"
    }
   ],
   "source": [
    "plt.hist(pp_25[\"Mid-Career Pay\"], bins=25)\n",
    "plt.title(\"Mid Career Pay for public & private colleges Rank 1~25\")\n",
    "plt.xlabel(\"Mid Career Pay\")\n",
    "plt.ylabel(\"Count\")\n",
    "plt.show()"
   ]
  },
  {
   "cell_type": "code",
   "execution_count": 215,
   "metadata": {},
   "outputs": [
    {
     "data": {
      "image/png": "[encoded data removed]",
      "text/plain": [
       "<Figure size 432x288 with 1 Axes>"
      ]
     },
     "metadata": {
      "needs_background": "light"
     },
     "output_type": "display_data"
    }
   ],
   "source": [
    "plt.hist(pp_50[\"Mid-Career Pay\"], bins=25)\n",
    "plt.title(\"Mid Career Pay for public & private colleges Rank 26~50\")\n",
    "plt.xlabel(\"Mid Career Pay\")\n",
    "plt.ylabel(\"Count\")\n",
    "plt.show()"
   ]
  },
  {
   "cell_type": "code",
   "execution_count": 216,
   "metadata": {},
   "outputs": [
    {
     "data": {
      "image/png": "[encoded data removed]",
      "text/plain": [
       "<Figure size 432x288 with 1 Axes>"
      ]
     },
     "metadata": {
      "needs_background": "light"
     },
     "output_type": "display_data"
    }
   ],
   "source": [
    "plt.hist(pp_75[\"Mid-Career Pay\"], bins=25)\n",
    "plt.title(\"Mid Career Pay for public & private colleges Rank 51~75\")\n",
    "plt.xlabel(\"Mid Career Pay\")\n",
    "plt.ylabel(\"Count\")\n",
    "plt.show()"
   ]
  },
  {
   "cell_type": "code",
   "execution_count": 217,
   "metadata": {},
   "outputs": [
    {
     "data": {
      "image/png": "[encoded data removed]",
      "text/plain": [
       "<Figure size 432x288 with 1 Axes>"
      ]
     },
     "metadata": {
      "needs_background": "light"
     },
     "output_type": "display_data"
    }
   ],
   "source": [
    "plt.hist(pp_100[\"Mid-Career Pay\"], bins=25)\n",
    "plt.title(\"Mid Career Pay for public & private colleges Rank 76~100\")\n",
    "plt.xlabel(\"Mid Career Pay\")\n",
    "plt.ylabel(\"Count\")\n",
    "plt.show()"
   ]
  },
  {
   "cell_type": "code",
   "execution_count": 218,
   "metadata": {},
   "outputs": [
    {
     "name": "stdout",
     "output_type": "stream",
     "text": [
      "The mean for mid-career pay of colleges (rank 1~25) is 141333.33333333334\n",
      "\n",
      "The mean for mid-career pay of colleges (rank 26~50) is 124728.0\n",
      "\n",
      "The mean for early career pay of colleges (rank 51~75) is 117448.0\n",
      "\n",
      "The mean for mid-career pay of colleges (rank 76~100) is 114084.0\n",
      "\n",
      "The mean for mid-career pay of public & private colleges is 124398.33333333334\n"
     ]
    }
   ],
   "source": [
    "pp_25_mid = pp_25[\"Mid-Career Pay\"].mean()\n",
    "print (\"The mean for mid-career pay of colleges (rank 1~25) is\", pp_25_mid)\n",
    "\n",
    "print(\"\")\n",
    "\n",
    "pp_50_mid = pp_50[\"Mid-Career Pay\"].mean()\n",
    "print (\"The mean for mid-career pay of colleges (rank 26~50) is\", pp_50_mid)\n",
    "\n",
    "print(\"\")\n",
    "\n",
    "pp_75_mid = pp_75[\"Mid-Career Pay\"].mean()\n",
    "print (\"The mean for early career pay of colleges (rank 51~75) is\", pp_75_mid)\n",
    "\n",
    "print(\"\")\n",
    "\n",
    "pp_100_mid = pp_100[\"Mid-Career Pay\"].mean()\n",
    "print (\"The mean for mid-career pay of colleges (rank 76~100) is\", pp_100_mid)\n",
    "\n",
    "print(\"\")\n",
    "\n",
    "pp_mid_mean = (pp_25_mid+pp_50_mid+pp_75_mid+pp_100_mid)/4\n",
    "print (\"The mean for mid-career pay of public & private colleges is\", pp_mid_mean)"
   ]
  },
  {
   "cell_type": "code",
   "execution_count": 219,
   "metadata": {},
   "outputs": [
    {
     "data": {
      "image/png": "[encoded data removed]",
      "text/plain": [
       "<Figure size 432x288 with 1 Axes>"
      ]
     },
     "metadata": {
      "needs_background": "light"
     },
     "output_type": "display_data"
    }
   ],
   "source": [
    "plt.hist(ivy[\"Mid-Career Pay\"], bins=8)\n",
    "plt.title(\"Mid Career Pay for ivy league colleges\")\n",
    "plt.xlabel(\"Mid Career Pay\")\n",
    "plt.ylabel(\"Count\")\n",
    "plt.show()"
   ]
  },
  {
   "cell_type": "code",
   "execution_count": 220,
   "metadata": {},
   "outputs": [
    {
     "name": "stdout",
     "output_type": "stream",
     "text": [
      "The mean for mid-career pay of ivy league colleges is 133987.5\n"
     ]
    }
   ],
   "source": [
    "ivy_mid = ivy[\"Mid-Career Pay\"].mean()\n",
    "print (\"The mean for mid-career pay of ivy league colleges is\", ivy_mid)"
   ]
  },
  {
   "cell_type": "markdown",
   "metadata": {},
   "source": [
    "### Result\n",
    "In terms of mid-career pay, the difference was even bigger. Graduates from ivy league colleges received about $9600 more than those from public & private colleges. The result suggested ivy league education leads to overall better career."
   ]
  },
  {
   "cell_type": "markdown",
   "metadata": {},
   "source": [
    "## STEM and Early Career Pay Correlation"
   ]
  },
  {
   "cell_type": "code",
   "execution_count": 221,
   "metadata": {},
   "outputs": [
    {
     "data": {
      "image/png": "[encoded data removed]",
      "text/plain": [
       "<Figure size 432x288 with 1 Axes>"
      ]
     },
     "metadata": {
      "needs_background": "light"
     },
     "output_type": "display_data"
    }
   ],
   "source": [
    "stem_pp_25 = pp_25[\"% STEM Degrees\"]\n",
    "early_pp_25 = pp_25[\"Early Career Pay\"]\n",
    "\n",
    "plt.scatter(stem_pp_25, early_pp_25)\n",
    "plt.xlim(-0.5, 1.1)\n",
    "plt.ylim(60000)\n",
    "plt.xlabel(\"% STEM Degrees\")\n",
    "plt.ylabel(\"Early Career Pay\")\n",
    "plt.title(\"% STEM Degrees and Early Career Pay for public & private colleges (Rank 1~25)\")\n",
    "plt.show()"
   ]
  },
  {
   "cell_type": "code",
   "execution_count": 222,
   "metadata": {},
   "outputs": [
    {
     "data": {
      "image/png": "[encoded data removed]",
      "text/plain": [
       "<Figure size 432x288 with 1 Axes>"
      ]
     },
     "metadata": {
      "needs_background": "light"
     },
     "output_type": "display_data"
    }
   ],
   "source": [
    "stem_pp_50 = pp_50[\"% STEM Degrees\"]\n",
    "early_pp_50 = pp_50[\"Early Career Pay\"]\n",
    "\n",
    "plt.scatter(stem_pp_50, early_pp_50)\n",
    "plt.xlim(-0.5, 1.1)\n",
    "plt.ylim(60000)\n",
    "plt.xlabel(\"% STEM Degrees\")\n",
    "plt.ylabel(\"Early Career Pay\")\n",
    "plt.title(\"% STEM Degrees and Early Career Pay for public & private colleges (Rank 26~50)\")\n",
    "plt.show()"
   ]
  },
  {
   "cell_type": "code",
   "execution_count": 223,
   "metadata": {},
   "outputs": [
    {
     "data": {
      "image/png": "[encoded data removed]",
      "text/plain": [
       "<Figure size 432x288 with 1 Axes>"
      ]
     },
     "metadata": {
      "needs_background": "light"
     },
     "output_type": "display_data"
    }
   ],
   "source": [
    "stem_pp_75 = pp_75[\"% STEM Degrees\"]\n",
    "early_pp_75 = pp_75[\"Early Career Pay\"]\n",
    "\n",
    "plt.scatter(stem_pp_75, early_pp_75)\n",
    "plt.xlim(-0.5, 1.1)\n",
    "plt.ylim(60000)\n",
    "plt.xlabel(\"% STEM Degrees\")\n",
    "plt.ylabel(\"Early Career Pay\")\n",
    "plt.title(\"% STEM Degrees and Early Career Pay for public & private colleges (Rank 51~75)\")\n",
    "plt.show()"
   ]
  },
  {
   "cell_type": "code",
   "execution_count": 224,
   "metadata": {},
   "outputs": [
    {
     "data": {
      "image/png": "[encoded data removed]",
      "text/plain": [
       "<Figure size 432x288 with 1 Axes>"
      ]
     },
     "metadata": {
      "needs_background": "light"
     },
     "output_type": "display_data"
    }
   ],
   "source": [
    "stem_pp_100 = pp_100[\"% STEM Degrees\"]\n",
    "early_pp_100 = pp_100[\"Early Career Pay\"]\n",
    "\n",
    "plt.scatter(stem_pp_100, early_pp_100)\n",
    "plt.xlim(-0.5, 1.1)\n",
    "plt.ylim(60000)\n",
    "plt.xlabel(\"% STEM Degrees\")\n",
    "plt.ylabel(\"Early Career Pay\")\n",
    "plt.title(\"% STEM Degrees and Early Career Pay for public & private colleges (Rank 76~100)\")\n",
    "plt.show()"
   ]
  },
  {
   "cell_type": "code",
   "execution_count": 225,
   "metadata": {},
   "outputs": [
    {
     "data": {
      "image/png": "[encoded data removed]",
      "text/plain": [
       "<Figure size 432x288 with 1 Axes>"
      ]
     },
     "metadata": {
      "needs_background": "light"
     },
     "output_type": "display_data"
    }
   ],
   "source": [
    "stem_ivy = ivy[\"% STEM Degrees\"]\n",
    "early_ivy = ivy[\"Early Career Pay\"]\n",
    "\n",
    "plt.scatter(stem_ivy, early_ivy)\n",
    "plt.xlim(-0.5, 1.1)\n",
    "plt.ylim(64000)\n",
    "plt.xlabel(\"% STEM Degrees\")\n",
    "plt.ylabel(\"Early Career Pay\")\n",
    "plt.title(\"% STEM Degrees and Early Career Pay for ivy league colleges\")\n",
    "plt.show()"
   ]
  },
  {
   "cell_type": "code",
   "execution_count": 226,
   "metadata": {},
   "outputs": [],
   "source": [
    "stem_pp= pp[\"% STEM Degrees\"]\n",
    "early_pp = pp[\"Early Career Pay\"]\n",
    "\n",
    "arr_stem_pp = np.array(stem_pp)\n",
    "arr_early_pp= np.array(early_pp)\n",
    "\n",
    "arr_stem_ivy=np.array(stem_ivy)\n",
    "arr_early_ivy=np.array(early_ivy)"
   ]
  },
  {
   "cell_type": "code",
   "execution_count": 227,
   "metadata": {},
   "outputs": [],
   "source": [
    "# Functions taken from hw 6 Exercises.\n",
    "\n",
    "def var(array):\n",
    "    variance = 0\n",
    "    \n",
    "    for n in array:\n",
    "        variance = variance + (n-array.mean())**2\n",
    "        \n",
    "    variance = variance / (len(array))\n",
    "    \n",
    "    return variance\n",
    "\n",
    "def covar(x,y):\n",
    "    covar=0\n",
    "    x_ar = numpy.array(x)-x.mean()\n",
    "    y_ar = numpy.array(y)-y.mean()\n",
    "    covar= numpy.sum(x_ar*y_ar)\n",
    "    covar = covar/(len(x))\n",
    "    return covar\n",
    "\n",
    "def corr(x,y):\n",
    "    covar_xy = covar(x,y)\n",
    "    var_xy= var(x)*var(y)\n",
    "    corr = covar_xy / numpy.sqrt(var_xy)\n",
    "    return corr"
   ]
  },
  {
   "cell_type": "code",
   "execution_count": 228,
   "metadata": {
    "scrolled": true
   },
   "outputs": [
    {
     "name": "stdout",
     "output_type": "stream",
     "text": [
      "Correlation between % STEM Degrees and Early Carrer Pay for public & private colleges is 0.34944108770632293\n",
      "Correlation between % STEM Degrees and Early Carrer Pay for ivy league is -0.2056961019445653\n"
     ]
    }
   ],
   "source": [
    "print (\"Correlation between % STEM Degrees and Early Carrer Pay for public & private colleges is\", corr(arr_stem_pp, arr_early_pp))\n",
    "print (\"Correlation between % STEM Degrees and Early Carrer Pay for ivy league is\", corr(arr_stem_ivy, arr_early_ivy))"
   ]
  },
  {
   "cell_type": "code",
   "execution_count": 229,
   "metadata": {},
   "outputs": [],
   "source": [
    "def slope (x,y):\n",
    "    x = x.reshape(-1,1)\n",
    "    y= y.reshape(-1,1)\n",
    "    model = LinearRegression()\n",
    "    model.fit(x,y)\n",
    "    slope  = float(model.coef_)\n",
    "    return  slope\n",
    "\n",
    "def intercept(x,y):\n",
    "    x = x.reshape(-1,1)\n",
    "    y= y.reshape(-1,1)\n",
    "    model = LinearRegression()\n",
    "    model.fit(x,y)\n",
    "    interc = float(model.intercept_)\n",
    "    return interc\n",
    "\n",
    "def std(x,y):\n",
    "    x = x.reshape(-1,1)\n",
    "    y= y.reshape(-1,1)\n",
    "    model = LinearRegression()\n",
    "    model.fit(x,y)\n",
    "    esti = model.predict(x)\n",
    "    resid_err = esti - y\n",
    "    std = numpy.sqrt(((resid_err-resid_err.mean())**2).sum() / len(resid_err))\n",
    "    return std"
   ]
  },
  {
   "cell_type": "code",
   "execution_count": 230,
   "metadata": {},
   "outputs": [
    {
     "name": "stdout",
     "output_type": "stream",
     "text": [
      "Public & Private Colleges\n",
      "\n",
      "Slope is 9230.609895361395\n",
      "Intercept is 63902.39571825776\n",
      "Standard Deviation is 6346.7928338471975\n"
     ]
    }
   ],
   "source": [
    "print (\"Public & Private Colleges\")\n",
    "print(\"\")\n",
    "print (\"Slope is\", slope(arr_stem_pp, arr_early_pp))\n",
    "print (\"Intercept is\", intercept(arr_stem_pp, arr_early_pp))\n",
    "print (\"Standard Deviation is\", std(arr_stem_pp, arr_early_pp))"
   ]
  },
  {
   "cell_type": "code",
   "execution_count": 231,
   "metadata": {},
   "outputs": [
    {
     "name": "stdout",
     "output_type": "stream",
     "text": [
      "Ivy League Colleges\n",
      "\n",
      "Slope is -4336.628149798135\n",
      "Intercept is 73202.32493387164\n",
      "Standard Deviation is 2185.7543152814656\n"
     ]
    }
   ],
   "source": [
    "print (\"Ivy League Colleges\")\n",
    "print(\"\")\n",
    "print (\"Slope is\", slope(arr_stem_ivy, arr_early_ivy))\n",
    "print (\"Intercept is\", intercept(arr_stem_ivy, arr_early_ivy))\n",
    "print (\"Standard Deviation is\", std(arr_stem_ivy, arr_early_ivy))"
   ]
  },
  {
   "cell_type": "code",
   "execution_count": 232,
   "metadata": {},
   "outputs": [
    {
     "name": "stdout",
     "output_type": "stream",
     "text": [
      "Public & Private colleges: Regression coefficient is 9230.609895361395\n",
      "\n",
      "Ivy League colleges: Regression coefficient is -4336.628149798135\n"
     ]
    }
   ],
   "source": [
    "arr_stem_pp = np.array(stem_pp).reshape(-1,1)\n",
    "arr_early_pp= np.array(early_pp).reshape(-1,1)\n",
    "\n",
    "model_pp = LinearRegression().fit(arr_stem_pp,arr_early_pp)\n",
    "pp_cf =  float(model_pp.coef_)\n",
    "print(\"Public & Private colleges: Regression coefficient is\", pp_cf)\n",
    "\n",
    "print(\"\")\n",
    "\n",
    "arr_stem_ivy=np.array(stem_ivy).reshape(-1,1)\n",
    "arr_early_ivy=np.array(early_ivy).reshape(-1,1)\n",
    "\n",
    "model_ivy = LinearRegression().fit(arr_stem_ivy,arr_early_ivy)\n",
    "ivy_cf =  float(model_ivy.coef_)\n",
    "print(\"Ivy League colleges: Regression coefficient is\", ivy_cf)"
   ]
  },
  {
   "cell_type": "markdown",
   "metadata": {},
   "source": [
    "### Result\n",
    "\n",
    "Analyzing the % of degrees awarded in the STEM major, it was discovered that public & privates colleges which had higher early career pay tended to have more STEM majors, showing a high correlation between STEM major and higher early career pay. However, ivy league colleges did not show this result. STEM Major particulary did not result in higher pay. Even though the average % STEM degrees was only around 0.4, graduates from ivy league colleges earned more than those from public & private colleges.\n",
    "\n",
    "These regression coefficients also imply how STEM major impacts early carrer pay for graduates from public & private colleges but not those from ivy league colleges."
   ]
  },
  {
   "cell_type": "markdown",
   "metadata": {},
   "source": [
    "## Conclusion\n",
    "\n",
    "My initial hypothesis was:\n",
    "- ivy league education will lead to higher pay in career than that of public & private colleges.\n",
    "- STEM major will impact the pay amount for both ivy league and public & private colleges.\n",
    "\n",
    "Through the analysis, I discovered that:\n",
    "- ivy league graduates do make more money than graduates from public & private colleges in terms of both early and mid career, but STEM major does not impact the pay amount for ivy league graduates. STEM degree did impact how much graduates from public & private colleges made."
   ]
  },
  {
   "cell_type": "code",
   "execution_count": null,
   "metadata": {},
   "outputs": [],
   "source": []
  }
 ],
 "metadata": {
  "kernelspec": {
   "display_name": "Python 3",
   "language": "python",
   "name": "python3"
  },
  "language_info": {
   "codemirror_mode": {
    "name": "ipython",
    "version": 3
   },
   "file_extension": ".py",
   "mimetype": "text/x-python",
   "name": "python",
   "nbconvert_exporter": "python",
   "pygments_lexer": "ipython3",
   "version": "3.7.4"
  }
 },
 "nbformat": 4,
 "nbformat_minor": 2
}
